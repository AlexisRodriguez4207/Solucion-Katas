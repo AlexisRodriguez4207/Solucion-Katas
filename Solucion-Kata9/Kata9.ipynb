{
 "cells": [
  {
   "cell_type": "code",
   "execution_count": 2,
   "metadata": {},
   "outputs": [
    {
     "name": "stdout",
     "output_type": "stream",
     "text": [
      " Reporte de Combustible:\n",
      "    Total: 55.0%\n",
      "    Tanque 1: 45%\n",
      "    Tanque 2: 55%\n",
      "    Tanque 3: 65%\n"
     ]
    }
   ],
   "source": [
    "#Ejercucio 1 Uso de Funciones en python\n",
    "def gen_Rp(tanq1,tanq2,tanq3):\n",
    "    TP=(tanq1+tanq2+tanq3)/3\n",
    "    return f\"\"\" Reporte de Combustible:\n",
    "    Total: {TP}%\n",
    "    Tanque 1: {tanq1}%\n",
    "    Tanque 2: {tanq2}%\n",
    "    Tanque 3: {tanq3}%\"\"\"\n",
    "\n",
    "\n",
    "print(gen_Rp(45,55,65))\n"
   ]
  },
  {
   "cell_type": "code",
   "execution_count": 4,
   "metadata": {},
   "outputs": [
    {
     "data": {
      "text/plain": [
       "87.0"
      ]
     },
     "execution_count": 4,
     "metadata": {},
     "output_type": "execute_result"
    }
   ],
   "source": [
    "#Funcion Prom\n",
    "def Prom(Valor):\n",
    "    t=sum(Valor)\n",
    "    N_items= len(Valor)\n",
    "    return t/N_items\n",
    "\n",
    "Prom([75,88,98])\n",
    "\n"
   ]
  },
  {
   "cell_type": "code",
   "execution_count": 6,
   "metadata": {},
   "outputs": [
    {
     "name": "stdout",
     "output_type": "stream",
     "text": [
      " Reporte de Combustible:\n",
      "    Total: 89.0%\n",
      "    Tanque 1: 87%\n",
      "    Tanque 2: 85%\n",
      "    Tanque 3: 95%\n"
     ]
    }
   ],
   "source": [
    "def gen_Rp(tanq1,tanq2,tanq3):\n",
    "    return f\"\"\" Reporte de Combustible:\n",
    "    Total: {Prom([tanq1,tanq2,tanq3])}%\n",
    "    Tanque 1: {tanq1}%\n",
    "    Tanque 2: {tanq2}%\n",
    "    Tanque 3: {tanq3}%\"\"\"\n",
    "\n",
    "print(gen_Rp(87,85,95))"
   ]
  },
  {
   "cell_type": "code",
   "execution_count": 12,
   "metadata": {},
   "outputs": [
    {
     "name": "stdout",
     "output_type": "stream",
     "text": [
      "\n",
      "    Mision a Marte\n",
      "    Tiempo total del viaje: 45 minutos\n",
      "    Combustible restante: 440000 galones\n"
     ]
    }
   ],
   "source": [
    "#Ejercicio 2 Trabajo con argumentos de palabra clave\n",
    "def rp_miss(preL,tmpV,Dest,tanqEx,tanqint):\n",
    "    return f\"\"\"\n",
    "    Mision a {Dest}\n",
    "    Tiempo total del viaje: {preL+tmpV} minutos\n",
    "    Combustible restante: {tanqint+tanqEx} galones\"\"\"\n",
    "print(rp_miss(10,35,\"Marte\",150000,290000))"
   ]
  },
  {
   "cell_type": "code",
   "execution_count": 14,
   "metadata": {},
   "outputs": [
    {
     "name": "stdout",
     "output_type": "stream",
     "text": [
      "\n",
      "    Mision a Marte\n",
      "    Tiempo total del viaje: 105 minutos\n",
      "    Combustible total: 450000\n"
     ]
    }
   ],
   "source": [
    "def rp_miss(Dest,*minutes,**fuel_reservoirs):\n",
    "    return f\"\"\"\n",
    "    Mision a {Dest}\n",
    "    Tiempo total del viaje: {sum(minutes)} minutos\n",
    "    Combustible total: {sum(fuel_reservoirs.values())}\"\"\"\n",
    "\n",
    "print(rp_miss(\"Marte\",15, 25,65,tnqint=250000, tnqext=200000))"
   ]
  },
  {
   "cell_type": "code",
   "execution_count": 18,
   "metadata": {},
   "outputs": [
    {
     "name": "stdout",
     "output_type": "stream",
     "text": [
      " \n",
      "    Mision a: Marte\n",
      "    Tiempo total del viaje: 125 minutos\n",
      "    Combustible Restante: 650000 Interno tanque ---> 400000 galones restantes \n",
      "\n"
     ]
    }
   ],
   "source": [
    "def rp_miss(Dest, *minutes,**fuel_reservoirs):\n",
    "    ReporteP= f\"\"\" \n",
    "    Mision a: {Dest}\n",
    "    Tiempo total del viaje: {sum(minutes)} minutos\n",
    "    Combustible Restante: {sum(fuel_reservoirs.values())}\"\"\"\n",
    "\n",
    "    for tanq, galones in fuel_reservoirs.items():\n",
    "        ReporteP+=f\" {tanq} tanque ---> {galones} galones restantes \\n\"\n",
    "        return ReporteP\n",
    "\n",
    "print(rp_miss(\"Marte\",15,35,75, Interno=400000, Externo=250000)) \n"
   ]
  },
  {
   "cell_type": "code",
   "execution_count": null,
   "metadata": {},
   "outputs": [],
   "source": []
  }
 ],
 "metadata": {
  "interpreter": {
   "hash": "6ec004f02faa30695aff621ad6d0a6e63e79a6e309e215f275cfc025b2811af0"
  },
  "kernelspec": {
   "display_name": "Python 3.10.1 64-bit",
   "language": "python",
   "name": "python3"
  },
  "language_info": {
   "codemirror_mode": {
    "name": "ipython",
    "version": 3
   },
   "file_extension": ".py",
   "mimetype": "text/x-python",
   "name": "python",
   "nbconvert_exporter": "python",
   "pygments_lexer": "ipython3",
   "version": "3.10.1"
  },
  "orig_nbformat": 4
 },
 "nbformat": 4,
 "nbformat_minor": 2
}
