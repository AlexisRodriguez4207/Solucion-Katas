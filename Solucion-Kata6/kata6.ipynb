{
 "cells": [
  {
   "cell_type": "code",
   "execution_count": 2,
   "metadata": {},
   "outputs": [
    {
     "name": "stdout",
     "output_type": "stream",
     "text": [
      "En total tenemos 8 planetas en el sistema solar\n"
     ]
    }
   ],
   "source": [
    "#Ejercicio 1 Crear y Usar listas\n",
    "planets=['Mercury', 'Venus', 'Earth', 'Mars', 'Jupiter', 'Saturn', 'Uranus', 'Neptune']\n",
    "\n",
    "number_planets = len(planets)\n",
    "print('En total tenemos', number_planets, 'planetas en el sistema solar')"
   ]
  },
  {
   "cell_type": "code",
   "execution_count": 5,
   "metadata": {},
   "outputs": [
    {
     "name": "stdout",
     "output_type": "stream",
     "text": [
      "El utlimo planeta es: Plutón\n"
     ]
    }
   ],
   "source": [
    "#agregar pluton a la lista\n",
    "planets.append(\"Plutón\")\n",
    "print('El utlimo planeta es:',planets[-1])"
   ]
  },
  {
   "cell_type": "code",
   "execution_count": 8,
   "metadata": {},
   "outputs": [
    {
     "name": "stdout",
     "output_type": "stream",
     "text": [
      "Los planetas mas cercanos de: Earth\n",
      "['Mercury', 'Venus']\n",
      "Los planetas mas alejados de: Earth\n",
      "['Mars', 'Jupiter', 'Saturn', 'Neptune']\n"
     ]
    }
   ],
   "source": [
    "#Ejercicio 2 Trabajando con datos de una lista\n",
    "\n",
    "# Lista de planetas\n",
    "planets = ['Mercury', 'Venus', 'Earth', 'Mars', 'Jupiter', 'Saturn', 'Neptune']\n",
    "\n",
    "#Ingresar un planeta\n",
    "Planeta = input(\"Ingresa el nombre del planeta deseado\")\n",
    "\n",
    "#Buscar el planeta en la lista\n",
    "Planeta_Index= planets.index(Planeta)\n",
    "\n",
    "#Mostrar los planetas mas cercanos\n",
    "print(\"Los planetas mas cercanos de: \" + Planeta)\n",
    "print(planets[0:Planeta_Index])\n",
    "\n",
    "#Mostrar los planetas mas alejados\n",
    "print(\"Los planetas mas alejados de: \" +Planeta)\n",
    "print(planets[Planeta_Index + 1: ])\n"
   ]
  },
  {
   "cell_type": "code",
   "execution_count": null,
   "metadata": {},
   "outputs": [],
   "source": []
  }
 ],
 "metadata": {
  "interpreter": {
   "hash": "6ec004f02faa30695aff621ad6d0a6e63e79a6e309e215f275cfc025b2811af0"
  },
  "kernelspec": {
   "display_name": "Python 3.10.1 64-bit",
   "language": "python",
   "name": "python3"
  },
  "language_info": {
   "codemirror_mode": {
    "name": "ipython",
    "version": 3
   },
   "file_extension": ".py",
   "mimetype": "text/x-python",
   "name": "python",
   "nbconvert_exporter": "python",
   "pygments_lexer": "ipython3",
   "version": "3.10.1"
  },
  "orig_nbformat": 4
 },
 "nbformat": 4,
 "nbformat_minor": 2
}
