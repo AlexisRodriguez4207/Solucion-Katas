{
 "cells": [
  {
   "cell_type": "code",
   "execution_count": 4,
   "metadata": {},
   "outputs": [
    {
     "name": "stdout",
     "output_type": "stream",
     "text": [
      "628949330\n"
     ]
    }
   ],
   "source": [
    "#Ejercicio 1\n",
    "#Calcular distancia entre dos planetas\n",
    "DisTi=149597870\n",
    "DisJp=778547200\n",
    "\n",
    "Distance=abs((DisTi-DisJp))\n",
    "print(Distance)\n"
   ]
  },
  {
   "cell_type": "code",
   "execution_count": 7,
   "metadata": {},
   "outputs": [
    {
     "name": "stdout",
     "output_type": "stream",
     "text": [
      "390577534\n"
     ]
    }
   ],
   "source": [
    "#convertir distancia a millas\n",
    "Millas=Distance*0.621\n",
    "print(round(Millas))"
   ]
  },
  {
   "cell_type": "code",
   "execution_count": 10,
   "metadata": {},
   "outputs": [
    {
     "name": "stdout",
     "output_type": "stream",
     "text": [
      "91700000\n",
      "56945700.0\n",
      "La distancia en Km es de:  91700000\n",
      "La distancia en Millas es de:  56945700.0\n"
     ]
    }
   ],
   "source": [
    "#Ejercicio 2 Convierte cadenas en numeros y usa valores absolutos\n",
    "PrPln= input(\"¿Ingresa la distancia del primer planeta al sol \")\n",
    "SgPln= input(\"¿Ingresa la distancia del segundo planeta al sol \")\n",
    "\n",
    "#convertir a numeros\n",
    "PrPln = int(PrPln)\n",
    "SgPln = int(SgPln)\n",
    "\n",
    "#calculo\n",
    "dist= abs((PrPln-SgPln))\n",
    "print(dist)\n",
    "\n",
    "#Convertir a millas\n",
    "distMill=dist*0.621\n",
    "print(distMill)\n",
    "\n",
    "print(\"La distancia en Km es de: \", dist)\n",
    "print(\"La distancia en Millas es de: \",distMill)\n"
   ]
  },
  {
   "cell_type": "code",
   "execution_count": null,
   "metadata": {},
   "outputs": [],
   "source": []
  }
 ],
 "metadata": {
  "interpreter": {
   "hash": "6ec004f02faa30695aff621ad6d0a6e63e79a6e309e215f275cfc025b2811af0"
  },
  "kernelspec": {
   "display_name": "Python 3.10.1 64-bit",
   "language": "python",
   "name": "python3"
  },
  "language_info": {
   "codemirror_mode": {
    "name": "ipython",
    "version": 3
   },
   "file_extension": ".py",
   "mimetype": "text/x-python",
   "name": "python",
   "nbconvert_exporter": "python",
   "pygments_lexer": "ipython3",
   "version": "3.10.1"
  },
  "orig_nbformat": 4
 },
 "nbformat": 4,
 "nbformat_minor": 2
}
