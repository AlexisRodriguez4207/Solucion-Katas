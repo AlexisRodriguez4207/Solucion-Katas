{
 "cells": [
  {
   "cell_type": "code",
   "execution_count": 1,
   "metadata": {},
   "outputs": [
    {
     "name": "stdout",
     "output_type": "stream",
     "text": [
      "Advertencia Asteroide con velocidad superior a la estandar!!!\n"
     ]
    }
   ],
   "source": [
    "#Problema 1\n",
    "Vel= 49\n",
    "\n",
    "if(Vel>25):\n",
    "    print(\"Advertencia Asteroide con velocidad superior a la estandar!!!\")\n",
    "else:\n",
    "    print(\"La velocidad esta en el rango establecido\")"
   ]
  },
  {
   "cell_type": "code",
   "execution_count": 3,
   "metadata": {},
   "outputs": [
    {
     "name": "stdout",
     "output_type": "stream",
     "text": [
      "El Asteroide no se encuentra a la vista en el cielo\n"
     ]
    }
   ],
   "source": [
    "#Problema 2\n",
    "Vel=19\n",
    "\n",
    "if(Vel >20):\n",
    "    print(\"Salgan a buscar un asteroide en el cielo\")\n",
    "elif(Vel==20):\n",
    "    print(\"Salgan a biscar un Asteroide en el cielo\")\n",
    "else:\n",
    "    print(\"El Asteroide no se encuentra a la vista en el cielo\")"
   ]
  },
  {
   "cell_type": "code",
   "execution_count": 14,
   "metadata": {},
   "outputs": [
    {
     "name": "stdout",
     "output_type": "stream",
     "text": [
      "Precaución: El Asteroide puede causar mucho daño al impactar!!!\n"
     ]
    }
   ],
   "source": [
    "#Problema 3\n",
    "Vel= 26\n",
    "tam= 26\n",
    "\n",
    "if(Vel>25 and tam>25):\n",
    "    print(\"Precaución: El Asteroide puede causar mucho daño al impactar!!!\")\n",
    "elif(Vel>=20):\n",
    "    print(\"El siguiente Asteroide produce un rayo de luz que puede ser visto\")\n",
    "elif(tam<25):\n",
    "    print(\"El Asteroide se va a destruir al entrar a la atmosfera\")\n",
    "else:\n",
    "    print(\"El Asteroide no puede ser observado a simple vista\")"
   ]
  }
 ],
 "metadata": {
  "interpreter": {
   "hash": "6ec004f02faa30695aff621ad6d0a6e63e79a6e309e215f275cfc025b2811af0"
  },
  "kernelspec": {
   "display_name": "Python 3.10.1 64-bit",
   "language": "python",
   "name": "python3"
  },
  "language_info": {
   "codemirror_mode": {
    "name": "ipython",
    "version": 3
   },
   "file_extension": ".py",
   "mimetype": "text/x-python",
   "name": "python",
   "nbconvert_exporter": "python",
   "pygments_lexer": "ipython3",
   "version": "3.10.1"
  },
  "orig_nbformat": 4
 },
 "nbformat": 4,
 "nbformat_minor": 2
}
